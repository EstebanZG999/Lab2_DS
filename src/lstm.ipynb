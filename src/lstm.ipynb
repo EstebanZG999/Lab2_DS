{
 "cells": [
  {
   "cell_type": "markdown",
   "id": "35735aca",
   "metadata": {},
   "source": [
    "# Modelos Long-Short Term Memory \n",
    "\n",
    "Laboratorio 02 – Series de Tiempo con Deep Learning\n",
    "\n",
    "Edwin Ortega 22305 - Esteban Zambrano 22119 - Diego García 22404\n",
    "\n",
    "Para este laboratorio trabajaremos con las series Regular_Imp y Diesel_Con ya que ambas series fueron completamente modeladas y analizadas en el laboratorio 1 además de su disponibilidad de datos adecuados para LSTM."
   ]
  }
 ],
 "metadata": {
  "language_info": {
   "name": "python"
  }
 },
 "nbformat": 4,
 "nbformat_minor": 5
}
